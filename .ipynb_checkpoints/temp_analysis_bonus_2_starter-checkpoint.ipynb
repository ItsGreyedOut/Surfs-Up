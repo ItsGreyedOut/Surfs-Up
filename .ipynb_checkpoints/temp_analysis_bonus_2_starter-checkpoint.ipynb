{
 "cells": [
  {
   "cell_type": "code",
   "execution_count": 76,
   "metadata": {},
   "outputs": [],
   "source": [
    "%matplotlib inline\n",
    "from matplotlib import style\n",
    "style.use('fivethirtyeight')\n",
    "import matplotlib.pyplot as plt\n",
    "import matplotlib.ticker as mtick"
   ]
  },
  {
   "cell_type": "code",
   "execution_count": 77,
   "metadata": {},
   "outputs": [],
   "source": [
    "import numpy as np\n",
    "import pandas as pd\n",
    "import datetime as dt"
   ]
  },
  {
   "cell_type": "markdown",
   "metadata": {},
   "source": [
    "## Reflect Tables into SQLALchemy ORM"
   ]
  },
  {
   "cell_type": "code",
   "execution_count": 78,
   "metadata": {},
   "outputs": [],
   "source": [
    "# Python SQL toolkit and Object Relational Mapper\n",
    "import sqlalchemy\n",
    "from sqlalchemy.ext.automap import automap_base\n",
    "from sqlalchemy.orm import Session\n",
    "from sqlalchemy import create_engine, func"
   ]
  },
  {
   "cell_type": "code",
   "execution_count": 79,
   "metadata": {},
   "outputs": [],
   "source": [
    "# create engine to hawaii.sqlite\n",
    "engine = create_engine(\"sqlite:///resources/hawaii.sqlite\")"
   ]
  },
  {
   "cell_type": "code",
   "execution_count": 80,
   "metadata": {},
   "outputs": [],
   "source": [
    "# reflect an existing database into a new model\n",
    "Base = automap_base()\n",
    "# reflect the tables\n",
    "Base.prepare(engine, reflect=True)"
   ]
  },
  {
   "cell_type": "code",
   "execution_count": 81,
   "metadata": {},
   "outputs": [
    {
     "name": "stdout",
     "output_type": "stream",
     "text": [
      "measurement\n",
      "station\n"
     ]
    }
   ],
   "source": [
    "# View all of the classes that automap found\n",
    "for Class in Base.classes.keys():\n",
    "    print(Class)"
   ]
  },
  {
   "cell_type": "code",
   "execution_count": 82,
   "metadata": {},
   "outputs": [],
   "source": [
    "# Save references to each table\n",
    "Measurement = Base.classes.measurement\n",
    "Station = Base.classes.station"
   ]
  },
  {
   "cell_type": "code",
   "execution_count": 83,
   "metadata": {},
   "outputs": [],
   "source": [
    "# Create our session (link) from Python to the DB\n",
    "session = Session(engine)"
   ]
  },
  {
   "cell_type": "markdown",
   "metadata": {},
   "source": [
    "## Bonus Challenge Assignment: Temperature Analysis II"
   ]
  },
  {
   "cell_type": "code",
   "execution_count": 84,
   "metadata": {},
   "outputs": [
    {
     "name": "stdout",
     "output_type": "stream",
     "text": [
      "[(62.0, 69.57142857142857, 74.0)]\n"
     ]
    }
   ],
   "source": [
    "# This function called `calc_temps` will accept start date and end date in the format '%Y-%m-%d' \n",
    "# and return the minimum, maximum, and average temperatures for that range of dates\n",
    "def calc_temps(start_date, end_date):\n",
    "    \"\"\"TMIN, TAVG, and TMAX for a list of dates.\n",
    "    \n",
    "    Args:\n",
    "        start_date (string): A date string in the format %Y-%m-%d\n",
    "        end_date (string): A date string in the format %Y-%m-%d\n",
    "        \n",
    "    Returns:\n",
    "        TMIN, TAVE, and TMAX\n",
    "    \"\"\"\n",
    "    \n",
    "    return session.query(func.min(Measurement.tobs), func.avg(Measurement.tobs), func.max(Measurement.tobs)).\\\n",
    "        filter(Measurement.date >= start_date).filter(Measurement.date <= end_date).all()\n",
    "\n",
    "# For example\n",
    "print(calc_temps('2012-02-28', '2012-03-05'))"
   ]
  },
  {
   "cell_type": "code",
   "execution_count": 85,
   "metadata": {},
   "outputs": [
    {
     "name": "stdout",
     "output_type": "stream",
     "text": [
      "Selected year is 2016\n"
     ]
    }
   ],
   "source": [
    "trip_year = 2016\n",
    "print(f\"Selected year is {trip_year}\")"
   ]
  },
  {
   "cell_type": "code",
   "execution_count": 86,
   "metadata": {},
   "outputs": [
    {
     "name": "stdout",
     "output_type": "stream",
     "text": [
      "2016 - tmin: 56.0, tavg: 74.14, tmax: 84.0\n"
     ]
    }
   ],
   "source": [
    "# Use the function `calc_temps` to calculate the tmin, tavg, and tmax \n",
    "# for a year in the data set\n",
    "date_min, date_max = session.query(func.min(Measurement.date), func.max(Measurement.date)).first()\n",
    "years_range = list(range(int(date_min[:4]), int(date_max[:4])))\n",
    "tmin, tavg, tmax = calc_temps(f\"{trip_year}-01-01\", f\"{trip_year}-12-31\")[0]\n",
    "print(f\"{trip_year} - tmin: {round(tmin,2)}, tavg: {round(tavg,2)}, tmax: {round(tmax,2)}\")"
   ]
  },
  {
   "cell_type": "code",
   "execution_count": 87,
   "metadata": {},
   "outputs": [
    {
     "data": {
      "image/png": "[encoded data removed]",
      "text/plain": [
       "<Figure size 288x576 with 1 Axes>"
      ]
     },
     "metadata": {},
     "output_type": "display_data"
    }
   ],
   "source": [
    "# Plot the results from your previous query as a bar chart. \n",
    "# Use \"Trip Avg Temp\" as your Title\n",
    "# Use the average temperature for bar height (y value)\n",
    "# Use the peak-to-peak (tmax-tmin) value as the y error bar (yerr)\n",
    "fig, ax = plt.subplots(1, 1, figsize = (4, 8))\n",
    "plt.errorbar(\n",
    "    x = 0, \n",
    "    y = tavg,\n",
    "    yerr = tmax - tmin,\n",
    "    elinewidth=3,\n",
    "    color = \"black\",\n",
    "    alpha = 0.6\n",
    ")\n",
    "\n",
    "plt.bar(\n",
    "    x = 0, \n",
    "    height = tavg,\n",
    "    color = \"orange\",\n",
    "    alpha = 0.6\n",
    ")\n",
    "ax.xaxis.set_major_formatter(mtick.StrMethodFormatter('')) \n",
    "ax.yaxis.set_major_formatter(mtick.StrMethodFormatter('{x:,.0f}°'))\n",
    "plt.title(f\"Trip Avg Temp ({trip_year})\")\n",
    "plt.xlabel('')\n",
    "plt.ylabel('Temperature (°F)')\n",
    "plt.tight_layout()\n",
    "plt.savefig(f'Images/bonus_2_trip_avg_temp_{trip_year}.png', bbox_inches = \"tight\")\n",
    "plt.show()\n"
   ]
  },
  {
   "cell_type": "markdown",
   "metadata": {},
   "source": [
    "### Daily Rainfall Average"
   ]
  },
  {
   "cell_type": "code",
   "execution_count": 88,
   "metadata": {},
   "outputs": [
    {
     "name": "stdout",
     "output_type": "stream",
     "text": [
      "165.52\tTotal Amount of Rainfall\n",
      "\tlatitude: 21.33, Longitude: -157.8, Elevation: 152.4\n",
      "\tWeather Station: USC00516128 - MANOA LYON ARBO 785.2, HI US\n",
      "\n",
      "87.7\tTotal Amount of Rainfall\n",
      "\tlatitude: 21.45, Longitude: -157.85, Elevation: 32.9\n",
      "\tWeather Station: USC00519281 - WAIHEE 837.5, HI US\n",
      "\n",
      "56.93\tTotal Amount of Rainfall\n",
      "\tlatitude: 21.34, Longitude: -157.71, Elevation: 19.5\n",
      "\tWeather Station: USC00519523 - WAIMANALO EXPERIMENTAL FARM, HI US\n",
      "\n",
      "53.49\tTotal Amount of Rainfall\n",
      "\tlatitude: 21.42, Longitude: -157.8, Elevation: 14.6\n",
      "\tWeather Station: USC00513117 - KANEOHE 838.1, HI US\n",
      "\n",
      "41.55\tTotal Amount of Rainfall\n",
      "\tlatitude: 21.52, Longitude: -157.84, Elevation: 7.0\n",
      "\tWeather Station: USC00514830 - KUALOA RANCH HEADQUARTERS 886.9, HI US\n",
      "\n",
      "18.36\tTotal Amount of Rainfall\n",
      "\tlatitude: 21.27, Longitude: -157.82, Elevation: 3.0\n",
      "\tWeather Station: USC00519397 - WAIKIKI 717.2, HI US\n",
      "\n",
      "6.09\tTotal Amount of Rainfall\n",
      "\tlatitude: 21.32, Longitude: -158.0, Elevation: 0.9\n",
      "\tWeather Station: USC00511918 - HONOLULU OBSERVATORY 702.2, HI US\n",
      "\n",
      "3.62\tTotal Amount of Rainfall\n",
      "\tlatitude: 21.39, Longitude: -157.98, Elevation: 11.9\n",
      "\tWeather Station: USC00517948 - PEARL CITY, HI US\n",
      "\n",
      "0.0\tTotal Amount of Rainfall\n",
      "\tlatitude: 21.5, Longitude: -158.01, Elevation: 306.6\n",
      "\tWeather Station: USC00518838 - UPPER WAHIAWA 874.3, HI US\n",
      "\n"
     ]
    }
   ],
   "source": [
    "# Calculate the total amount of rainfall per weather station for your trip dates using the previous year's \n",
    "# matching dates.\n",
    "# Sort this in descending order by precipitation amount and list the station, name, latitude, longitude, and elevation\n",
    "amount_of_rainfall_per_weather_station = session.query(\n",
    "    func.sum(Measurement.prcp), \n",
    "    Station.station, \n",
    "    Station.name, \n",
    "    Station.latitude, \n",
    "    Station.longitude, \n",
    "    Station.elevation\n",
    ").join(Measurement, Measurement.station == Station.station).\\\n",
    "group_by(Measurement.station).\\\n",
    "filter(\n",
    "    Measurement.date >= func.DATE(f\"{trip_year-1}-01-01\"),\n",
    "    Measurement.date <= func.DATE(f\"{trip_year-1}-12-31\")\n",
    ").order_by(func.sum(Measurement.prcp).desc())\n",
    "\n",
    "for weather_station in amount_of_rainfall_per_weather_station:\n",
    "    prcp_sum, station, name, lat, lng, elevation = weather_station\n",
    "    print(f\"{round(prcp_sum, 2)}\\tTotal Amount of Rainfall\")\n",
    "    print(f\"\\tlatitude: {round(lat, 2)}, Longitude: {round(lng, 2)}, Elevation: {round(elevation, 2)}\")\n",
    "    print(f\"\\tWeather Station: {station} - {name}\")\n",
    "    print()"
   ]
  },
  {
   "cell_type": "code",
   "execution_count": 89,
   "metadata": {},
   "outputs": [
    {
     "data": {
      "text/plain": [
       "[(62.0, 69.15384615384616, 77.0)]"
      ]
     },
     "execution_count": 89,
     "metadata": {},
     "output_type": "execute_result"
    }
   ],
   "source": [
    "# Use this function to calculate the daily normals \n",
    "# (i.e. the averages for tmin, tmax, and tavg for all historic data matching a specific month and day)\n",
    "\n",
    "def daily_normals(date):\n",
    "    \"\"\"Daily Normals.\n",
    "    \n",
    "    Args:\n",
    "        date (str): A date string in the format '%m-%d'\n",
    "        \n",
    "    Returns:\n",
    "        A list of tuples containing the daily normals, tmin, tavg, and tmax\n",
    "    \n",
    "    \"\"\"\n",
    "    \n",
    "    sel = [func.min(Measurement.tobs), func.avg(Measurement.tobs), func.max(Measurement.tobs)]\n",
    "    return session.query(*sel).filter(func.strftime(\"%m-%d\", Measurement.date) == date).all()\n",
    "\n",
    "# For example\n",
    "daily_normals(\"01-01\")"
   ]
  },
  {
   "cell_type": "code",
   "execution_count": 90,
   "metadata": {},
   "outputs": [],
   "source": [
    "# calculate the daily normals for your trip\n",
    "# push each tuple of calculations into a list called `normals`\n",
    "\n",
    "# Set the start and end date of the trip\n",
    "start_date = '2017-08-01'\n",
    "end_date = '2017-08-07'\n",
    "\n",
    "# Use the start and end date to create a range of dates\n",
    "\n",
    "\n",
    "# Strip off the year and save a list of strings in the format %m-%d\n",
    "\n",
    "\n",
    "# Use the `daily_normals` function to calculate the normals for each date string \n",
    "# and append the results to a list called `normals`.\n"
   ]
  },
  {
   "cell_type": "code",
   "execution_count": 91,
   "metadata": {},
   "outputs": [],
   "source": [
    "datetime_format = \"%Y-%m-%d\"\n",
    "\n",
    "trip_month = 7\n",
    "trip_starting_day = 16\n",
    "trip_length = 12\n",
    "\n",
    "# Use the start and end date to create a range of dates\n",
    "# Strip off the year and save a list of strings in the format %m-%d\n",
    "trip_dates = [f\"{trip_month:02d}-{day:02d}\" for day in list(range(trip_starting_day, trip_starting_day + trip_length))]\n",
    "\n",
    "# calculate the daily normals for your trip+\n",
    "\n",
    "# push each tuple of calculations into a list called `normals`\n",
    "normals = []\n",
    "\n",
    "# Use the `daily_normals` function to calculate the normals for each date string \n",
    "\n",
    "# and append the results to a list called `normals`.\n",
    "for day in trip_dates:\n",
    "    normals.append(daily_normals(day)[0])\n",
    "\n",
    "# Set the start and end date of the trip\n",
    "start_date = f'{trip_year}-{trip_dates[0]}'\n",
    "end_date = f'{trip_year}-{trip_dates[-1]}'"
   ]
  },
  {
   "cell_type": "code",
   "execution_count": 92,
   "metadata": {},
   "outputs": [
    {
     "data": {
      "text/html": [
       "<div>\n",
       "<style scoped>\n",
       "    .dataframe tbody tr th:only-of-type {\n",
       "        vertical-align: middle;\n",
       "    }\n",
       "\n",
       "    .dataframe tbody tr th {\n",
       "        vertical-align: top;\n",
       "    }\n",
       "\n",
       "    .dataframe thead th {\n",
       "        text-align: right;\n",
       "    }\n",
       "</style>\n",
       "<table border=\"1\" class=\"dataframe\">\n",
       "  <thead>\n",
       "    <tr style=\"text-align: right;\">\n",
       "      <th></th>\n",
       "      <th>Temperature Minimum</th>\n",
       "      <th>Temperature Average</th>\n",
       "      <th>Temperature Maximum</th>\n",
       "    </tr>\n",
       "    <tr>\n",
       "      <th>date</th>\n",
       "      <th></th>\n",
       "      <th></th>\n",
       "      <th></th>\n",
       "    </tr>\n",
       "  </thead>\n",
       "  <tbody>\n",
       "    <tr>\n",
       "      <th>2016-07-16</th>\n",
       "      <td>70.0</td>\n",
       "      <td>76.344828</td>\n",
       "      <td>83.0</td>\n",
       "    </tr>\n",
       "    <tr>\n",
       "      <th>2016-07-17</th>\n",
       "      <td>70.0</td>\n",
       "      <td>76.301887</td>\n",
       "      <td>83.0</td>\n",
       "    </tr>\n",
       "    <tr>\n",
       "      <th>2016-07-18</th>\n",
       "      <td>72.0</td>\n",
       "      <td>76.637931</td>\n",
       "      <td>83.0</td>\n",
       "    </tr>\n",
       "    <tr>\n",
       "      <th>2016-07-19</th>\n",
       "      <td>68.0</td>\n",
       "      <td>75.890909</td>\n",
       "      <td>83.0</td>\n",
       "    </tr>\n",
       "    <tr>\n",
       "      <th>2016-07-20</th>\n",
       "      <td>69.0</td>\n",
       "      <td>75.462963</td>\n",
       "      <td>82.0</td>\n",
       "    </tr>\n",
       "    <tr>\n",
       "      <th>2016-07-21</th>\n",
       "      <td>69.0</td>\n",
       "      <td>76.924528</td>\n",
       "      <td>83.0</td>\n",
       "    </tr>\n",
       "    <tr>\n",
       "      <th>2016-07-22</th>\n",
       "      <td>69.0</td>\n",
       "      <td>75.788462</td>\n",
       "      <td>81.0</td>\n",
       "    </tr>\n",
       "    <tr>\n",
       "      <th>2016-07-23</th>\n",
       "      <td>70.0</td>\n",
       "      <td>76.203704</td>\n",
       "      <td>84.0</td>\n",
       "    </tr>\n",
       "    <tr>\n",
       "      <th>2016-07-24</th>\n",
       "      <td>69.0</td>\n",
       "      <td>76.555556</td>\n",
       "      <td>81.0</td>\n",
       "    </tr>\n",
       "    <tr>\n",
       "      <th>2016-07-25</th>\n",
       "      <td>67.0</td>\n",
       "      <td>76.890909</td>\n",
       "      <td>84.0</td>\n",
       "    </tr>\n",
       "    <tr>\n",
       "      <th>2016-07-26</th>\n",
       "      <td>71.0</td>\n",
       "      <td>76.442308</td>\n",
       "      <td>86.0</td>\n",
       "    </tr>\n",
       "    <tr>\n",
       "      <th>2016-07-27</th>\n",
       "      <td>68.0</td>\n",
       "      <td>76.581818</td>\n",
       "      <td>83.0</td>\n",
       "    </tr>\n",
       "  </tbody>\n",
       "</table>\n",
       "</div>"
      ],
      "text/plain": [
       "            Temperature Minimum  Temperature Average  Temperature Maximum\n",
       "date                                                                     \n",
       "2016-07-16                 70.0            76.344828                 83.0\n",
       "2016-07-17                 70.0            76.301887                 83.0\n",
       "2016-07-18                 72.0            76.637931                 83.0\n",
       "2016-07-19                 68.0            75.890909                 83.0\n",
       "2016-07-20                 69.0            75.462963                 82.0\n",
       "2016-07-21                 69.0            76.924528                 83.0\n",
       "2016-07-22                 69.0            75.788462                 81.0\n",
       "2016-07-23                 70.0            76.203704                 84.0\n",
       "2016-07-24                 69.0            76.555556                 81.0\n",
       "2016-07-25                 67.0            76.890909                 84.0\n",
       "2016-07-26                 71.0            76.442308                 86.0\n",
       "2016-07-27                 68.0            76.581818                 83.0"
      ]
     },
     "execution_count": 92,
     "metadata": {},
     "output_type": "execute_result"
    }
   ],
   "source": [
    "# Load the previous query results into a Pandas DataFrame and add the `trip_dates` range as the `date` index\n",
    "df = pd.DataFrame({\n",
    "    \"date\" : [f\"{trip_year}-{day}\" for day in trip_dates],\n",
    "    \"Temperature Minimum\" : [tmin for tmin, tavg, tmax in normals], \n",
    "    \"Temperature Average\" : [tavg for tmin, tavg, tmax in normals], \n",
    "    \"Temperature Maximum\" : [tmax for tmin, tavg, tmax in normals]\n",
    "})\n",
    "df[\"date\"] = pd.to_datetime(df[\"date\"], format=datetime_format)\n",
    "df.set_index(\"date\", inplace=True)\n",
    "df"
   ]
  },
  {
   "cell_type": "code",
   "execution_count": 97,
   "metadata": {},
   "outputs": [
    {
     "data": {
      "image/png": "[encoded data removed]",
      "text/plain": [
       "<Figure size 1152x648 with 1 Axes>"
      ]
     },
     "metadata": {},
     "output_type": "display_data"
    }
   ],
   "source": [
    "# Plot the daily normals as an area plot with `stacked=False`\n",
    "fig, ax = plt.subplots(1, 1, figsize = (16,9))\n",
    "df.plot(\n",
    "    ax=ax,\n",
    "    stacked=False\n",
    ")\n",
    "ax.fill_between(df[\"Temperature Maximum\"].values, 0, alpha=1)\n",
    "ax.xaxis.set_major_formatter(mtick.StrMethodFormatter('')) \n",
    "ax.yaxis.set_major_formatter(mtick.StrMethodFormatter('{x:,.01f}°')) \n",
    "ax.legend(\n",
    "    loc='lower right', \n",
    "    borderpad =1\n",
    ")\n",
    "plt.title(f'Hawaii\\nDaily Normal Temperature Range for Trip\\n({start_date} / {end_date})')\n",
    "plt.xlabel(f'Day ({start_date} / {end_date})')\n",
    "plt.ylabel('Temperature (°F)', fontsize = (20))\n",
    "plt.tight_layout()\n",
    "plt.savefig('Images/daily_normal_temperature_range_for_trip.png', bbox_inches = \"tight\")\n",
    "plt.show()"
   ]
  },
  {
   "cell_type": "markdown",
   "metadata": {},
   "source": [
    "## Close Session"
   ]
  },
  {
   "cell_type": "code",
   "execution_count": 98,
   "metadata": {},
   "outputs": [],
   "source": [
    "session.close()"
   ]
  },
  {
   "cell_type": "code",
   "execution_count": null,
   "metadata": {},
   "outputs": [],
   "source": []
  }
 ],
 "metadata": {
  "kernelspec": {
   "display_name": "Python 3",
   "language": "python",
   "name": "python3"
  },
  "language_info": {
   "codemirror_mode": {
    "name": "ipython",
    "version": 3
   },
   "file_extension": ".py",
   "mimetype": "text/x-python",
   "name": "python",
   "nbconvert_exporter": "python",
   "pygments_lexer": "ipython3",
   "version": "3.8.5"
  }
 },
 "nbformat": 4,
 "nbformat_minor": 4
}
